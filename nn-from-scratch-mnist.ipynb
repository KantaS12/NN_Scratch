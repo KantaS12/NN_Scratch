{
 "cells": [
  {
   "cell_type": "markdown",
   "id": "dd48200b",
   "metadata": {
    "papermill": {
     "duration": 0.004982,
     "end_time": "2025-05-08T08:50:03.273338",
     "exception": false,
     "start_time": "2025-05-08T08:50:03.268356",
     "status": "completed"
    },
    "tags": []
   },
   "source": [
    "# **Neural Network From Scratch**\n",
    "\n",
    "**(Using MNIST DataSet)**\n",
    "\n",
    "In this small learning project I am demonstrating my knowledge of Neural Networks by creating it from scratch using numpy and also show casing my accuracy vs loss functions of both gradient descent and also a more optimized gradient descent using adam optimizer. \n"
   ]
  },
  {
   "cell_type": "code",
   "execution_count": 1,
   "id": "91cde975",
   "metadata": {
    "_cell_guid": "b1076dfc-b9ad-4769-8c92-a6c4dae69d19",
    "_uuid": "8f2839f25d086af736a60e9eeb907d3b93b6e0e5",
    "execution": {
     "iopub.execute_input": "2025-05-08T08:50:03.284390Z",
     "iopub.status.busy": "2025-05-08T08:50:03.283558Z",
     "iopub.status.idle": "2025-05-08T08:50:08.246853Z",
     "shell.execute_reply": "2025-05-08T08:50:08.246016Z"
    },
    "papermill": {
     "duration": 4.970084,
     "end_time": "2025-05-08T08:50:08.248341",
     "exception": false,
     "start_time": "2025-05-08T08:50:03.278257",
     "status": "completed"
    },
    "tags": []
   },
   "outputs": [
    {
     "data": {
      "text/html": [
       "<div>\n",
       "<style scoped>\n",
       "    .dataframe tbody tr th:only-of-type {\n",
       "        vertical-align: middle;\n",
       "    }\n",
       "\n",
       "    .dataframe tbody tr th {\n",
       "        vertical-align: top;\n",
       "    }\n",
       "\n",
       "    .dataframe thead th {\n",
       "        text-align: right;\n",
       "    }\n",
       "</style>\n",
       "<table border=\"1\" class=\"dataframe\">\n",
       "  <thead>\n",
       "    <tr style=\"text-align: right;\">\n",
       "      <th></th>\n",
       "      <th>label</th>\n",
       "      <th>pixel0</th>\n",
       "      <th>pixel1</th>\n",
       "      <th>pixel2</th>\n",
       "      <th>pixel3</th>\n",
       "      <th>pixel4</th>\n",
       "      <th>pixel5</th>\n",
       "      <th>pixel6</th>\n",
       "      <th>pixel7</th>\n",
       "      <th>pixel8</th>\n",
       "      <th>...</th>\n",
       "      <th>pixel774</th>\n",
       "      <th>pixel775</th>\n",
       "      <th>pixel776</th>\n",
       "      <th>pixel777</th>\n",
       "      <th>pixel778</th>\n",
       "      <th>pixel779</th>\n",
       "      <th>pixel780</th>\n",
       "      <th>pixel781</th>\n",
       "      <th>pixel782</th>\n",
       "      <th>pixel783</th>\n",
       "    </tr>\n",
       "  </thead>\n",
       "  <tbody>\n",
       "    <tr>\n",
       "      <th>0</th>\n",
       "      <td>1</td>\n",
       "      <td>0</td>\n",
       "      <td>0</td>\n",
       "      <td>0</td>\n",
       "      <td>0</td>\n",
       "      <td>0</td>\n",
       "      <td>0</td>\n",
       "      <td>0</td>\n",
       "      <td>0</td>\n",
       "      <td>0</td>\n",
       "      <td>...</td>\n",
       "      <td>0</td>\n",
       "      <td>0</td>\n",
       "      <td>0</td>\n",
       "      <td>0</td>\n",
       "      <td>0</td>\n",
       "      <td>0</td>\n",
       "      <td>0</td>\n",
       "      <td>0</td>\n",
       "      <td>0</td>\n",
       "      <td>0</td>\n",
       "    </tr>\n",
       "    <tr>\n",
       "      <th>1</th>\n",
       "      <td>0</td>\n",
       "      <td>0</td>\n",
       "      <td>0</td>\n",
       "      <td>0</td>\n",
       "      <td>0</td>\n",
       "      <td>0</td>\n",
       "      <td>0</td>\n",
       "      <td>0</td>\n",
       "      <td>0</td>\n",
       "      <td>0</td>\n",
       "      <td>...</td>\n",
       "      <td>0</td>\n",
       "      <td>0</td>\n",
       "      <td>0</td>\n",
       "      <td>0</td>\n",
       "      <td>0</td>\n",
       "      <td>0</td>\n",
       "      <td>0</td>\n",
       "      <td>0</td>\n",
       "      <td>0</td>\n",
       "      <td>0</td>\n",
       "    </tr>\n",
       "    <tr>\n",
       "      <th>2</th>\n",
       "      <td>1</td>\n",
       "      <td>0</td>\n",
       "      <td>0</td>\n",
       "      <td>0</td>\n",
       "      <td>0</td>\n",
       "      <td>0</td>\n",
       "      <td>0</td>\n",
       "      <td>0</td>\n",
       "      <td>0</td>\n",
       "      <td>0</td>\n",
       "      <td>...</td>\n",
       "      <td>0</td>\n",
       "      <td>0</td>\n",
       "      <td>0</td>\n",
       "      <td>0</td>\n",
       "      <td>0</td>\n",
       "      <td>0</td>\n",
       "      <td>0</td>\n",
       "      <td>0</td>\n",
       "      <td>0</td>\n",
       "      <td>0</td>\n",
       "    </tr>\n",
       "    <tr>\n",
       "      <th>3</th>\n",
       "      <td>4</td>\n",
       "      <td>0</td>\n",
       "      <td>0</td>\n",
       "      <td>0</td>\n",
       "      <td>0</td>\n",
       "      <td>0</td>\n",
       "      <td>0</td>\n",
       "      <td>0</td>\n",
       "      <td>0</td>\n",
       "      <td>0</td>\n",
       "      <td>...</td>\n",
       "      <td>0</td>\n",
       "      <td>0</td>\n",
       "      <td>0</td>\n",
       "      <td>0</td>\n",
       "      <td>0</td>\n",
       "      <td>0</td>\n",
       "      <td>0</td>\n",
       "      <td>0</td>\n",
       "      <td>0</td>\n",
       "      <td>0</td>\n",
       "    </tr>\n",
       "    <tr>\n",
       "      <th>4</th>\n",
       "      <td>0</td>\n",
       "      <td>0</td>\n",
       "      <td>0</td>\n",
       "      <td>0</td>\n",
       "      <td>0</td>\n",
       "      <td>0</td>\n",
       "      <td>0</td>\n",
       "      <td>0</td>\n",
       "      <td>0</td>\n",
       "      <td>0</td>\n",
       "      <td>...</td>\n",
       "      <td>0</td>\n",
       "      <td>0</td>\n",
       "      <td>0</td>\n",
       "      <td>0</td>\n",
       "      <td>0</td>\n",
       "      <td>0</td>\n",
       "      <td>0</td>\n",
       "      <td>0</td>\n",
       "      <td>0</td>\n",
       "      <td>0</td>\n",
       "    </tr>\n",
       "  </tbody>\n",
       "</table>\n",
       "<p>5 rows × 785 columns</p>\n",
       "</div>"
      ],
      "text/plain": [
       "   label  pixel0  pixel1  pixel2  pixel3  pixel4  pixel5  pixel6  pixel7  \\\n",
       "0      1       0       0       0       0       0       0       0       0   \n",
       "1      0       0       0       0       0       0       0       0       0   \n",
       "2      1       0       0       0       0       0       0       0       0   \n",
       "3      4       0       0       0       0       0       0       0       0   \n",
       "4      0       0       0       0       0       0       0       0       0   \n",
       "\n",
       "   pixel8  ...  pixel774  pixel775  pixel776  pixel777  pixel778  pixel779  \\\n",
       "0       0  ...         0         0         0         0         0         0   \n",
       "1       0  ...         0         0         0         0         0         0   \n",
       "2       0  ...         0         0         0         0         0         0   \n",
       "3       0  ...         0         0         0         0         0         0   \n",
       "4       0  ...         0         0         0         0         0         0   \n",
       "\n",
       "   pixel780  pixel781  pixel782  pixel783  \n",
       "0         0         0         0         0  \n",
       "1         0         0         0         0  \n",
       "2         0         0         0         0  \n",
       "3         0         0         0         0  \n",
       "4         0         0         0         0  \n",
       "\n",
       "[5 rows x 785 columns]"
      ]
     },
     "execution_count": 1,
     "metadata": {},
     "output_type": "execute_result"
    }
   ],
   "source": [
    "import numpy as np\n",
    "import pandas as pd\n",
    "from matplotlib import pyplot as plt\n",
    "\n",
    "data = pd.read_csv('/kaggle/input/digit-recognizer/train.csv')\n",
    "data.head()"
   ]
  },
  {
   "cell_type": "code",
   "execution_count": 2,
   "id": "b9c13bbf",
   "metadata": {
    "execution": {
     "iopub.execute_input": "2025-05-08T08:50:08.258712Z",
     "iopub.status.busy": "2025-05-08T08:50:08.258188Z",
     "iopub.status.idle": "2025-05-08T08:50:08.889579Z",
     "shell.execute_reply": "2025-05-08T08:50:08.888720Z"
    },
    "papermill": {
     "duration": 0.637864,
     "end_time": "2025-05-08T08:50:08.890947",
     "exception": false,
     "start_time": "2025-05-08T08:50:08.253083",
     "status": "completed"
    },
    "tags": []
   },
   "outputs": [
    {
     "name": "stdout",
     "output_type": "stream",
     "text": [
      "m = 42000, n = 785\n"
     ]
    }
   ],
   "source": [
    "data = np.array(data)\n",
    "m, n = data.shape\n",
    "np.random.shuffle(data)\n",
    "print(f\"m = {m}, n = {n}\")"
   ]
  },
  {
   "cell_type": "code",
   "execution_count": 3,
   "id": "621b7ff6",
   "metadata": {
    "execution": {
     "iopub.execute_input": "2025-05-08T08:50:08.901761Z",
     "iopub.status.busy": "2025-05-08T08:50:08.901206Z",
     "iopub.status.idle": "2025-05-08T08:50:08.929267Z",
     "shell.execute_reply": "2025-05-08T08:50:08.928490Z"
    },
    "papermill": {
     "duration": 0.035178,
     "end_time": "2025-05-08T08:50:08.930871",
     "exception": false,
     "start_time": "2025-05-08T08:50:08.895693",
     "status": "completed"
    },
    "tags": []
   },
   "outputs": [],
   "source": [
    "data_test = data[0: 8400].T\n",
    "Y_test = data_test[0]\n",
    "X_test = data_test[1:n]\n",
    "X_test = X_test / 255."
   ]
  },
  {
   "cell_type": "code",
   "execution_count": 4,
   "id": "ca18fd56",
   "metadata": {
    "execution": {
     "iopub.execute_input": "2025-05-08T08:50:08.942205Z",
     "iopub.status.busy": "2025-05-08T08:50:08.941409Z",
     "iopub.status.idle": "2025-05-08T08:50:09.061690Z",
     "shell.execute_reply": "2025-05-08T08:50:09.060971Z"
    },
    "papermill": {
     "duration": 0.127343,
     "end_time": "2025-05-08T08:50:09.063454",
     "exception": false,
     "start_time": "2025-05-08T08:50:08.936111",
     "status": "completed"
    },
    "tags": []
   },
   "outputs": [],
   "source": [
    "data_train = data[8400:m].T\n",
    "Y_train = data_train[0]\n",
    "X_train = data_train[1:n]\n",
    "X_train = X_train / 255.\n",
    "_, m_train = X_train.shape"
   ]
  },
  {
   "cell_type": "code",
   "execution_count": 5,
   "id": "666f63f1",
   "metadata": {
    "execution": {
     "iopub.execute_input": "2025-05-08T08:50:09.073633Z",
     "iopub.status.busy": "2025-05-08T08:50:09.073356Z",
     "iopub.status.idle": "2025-05-08T08:50:09.078496Z",
     "shell.execute_reply": "2025-05-08T08:50:09.077800Z"
    },
    "papermill": {
     "duration": 0.011449,
     "end_time": "2025-05-08T08:50:09.079634",
     "exception": false,
     "start_time": "2025-05-08T08:50:09.068185",
     "status": "completed"
    },
    "tags": []
   },
   "outputs": [
    {
     "data": {
      "text/plain": [
       "array([7, 1, 3, ..., 7, 0, 0])"
      ]
     },
     "execution_count": 5,
     "metadata": {},
     "output_type": "execute_result"
    }
   ],
   "source": [
    "Y_train"
   ]
  },
  {
   "cell_type": "markdown",
   "id": "1b785ab9",
   "metadata": {
    "papermill": {
     "duration": 0.004215,
     "end_time": "2025-05-08T08:50:09.088386",
     "exception": false,
     "start_time": "2025-05-08T08:50:09.084171",
     "status": "completed"
    },
    "tags": []
   },
   "source": [
    "# **Inside Our Neural Network**"
   ]
  },
  {
   "cell_type": "code",
   "execution_count": 6,
   "id": "1ba42588",
   "metadata": {
    "execution": {
     "iopub.execute_input": "2025-05-08T08:50:09.098975Z",
     "iopub.status.busy": "2025-05-08T08:50:09.098233Z",
     "iopub.status.idle": "2025-05-08T08:50:09.115383Z",
     "shell.execute_reply": "2025-05-08T08:50:09.114560Z"
    },
    "papermill": {
     "duration": 0.023756,
     "end_time": "2025-05-08T08:50:09.116691",
     "exception": false,
     "start_time": "2025-05-08T08:50:09.092935",
     "status": "completed"
    },
    "tags": []
   },
   "outputs": [],
   "source": [
    "def init_params():\n",
    "    W1 = np.random.uniform(-0.3, 0.3, (32, 784))\n",
    "    b1 = np.random.uniform(-0.3, 0.3, (32, 1))\n",
    "    \n",
    "    W2 = np.random.uniform(-0.3, 0.3, (32, 32))\n",
    "    b2 = np.random.uniform(-0.3, 0.3, (32, 1))\n",
    "                        \n",
    "    W3 = np.random.uniform(-0.3, 0.3, (64, 32))\n",
    "    b3 = np.random.uniform(-0.3, 0.3, (64, 1))\n",
    "\n",
    "    W4 = np.random.uniform(-0.3, 0.3, (64, 64))\n",
    "    b4 = np.random.uniform(-0.3, 0.3, (64, 1))\n",
    "\n",
    "    W5 = np.random.uniform(-0.3, 0.3, (10, 64))\n",
    "    b5 = np.random.uniform(-0.3, 0.3, (10, 1))\n",
    "\n",
    "    return W1, b1, W2, b2, W3, b3, W4, b4, W5, b5\n",
    "\n",
    "def ReLU(Z):\n",
    "    return np.maximum(0, Z)\n",
    "\n",
    "def sigmoid(Z):\n",
    "    return 1/ (1 + np.exp(-Z))\n",
    "\n",
    "def SeLU(Z, alpha=1.67326324, scale=1.05070098):\n",
    "    return np.where(Z > 0, scale * Z, scale * alpha * (np.exp(Z) - 1))\n",
    "\n",
    "def tanh(Z):\n",
    "    return np.tanh(Z)\n",
    "\n",
    "def softmax(Z):\n",
    "    return np.exp(Z) / sum(np.exp(Z))\n",
    "\n",
    "def ReLU_deriv(Z):\n",
    "    return Z > 0\n",
    "\n",
    "def sigmoid_deriv(Z):\n",
    "    return sigmoid(Z) * (1 - sigmoid(Z))\n",
    "\n",
    "def SeLU_deriv(Z, alpha=1.67326324, scale=1.05070098):\n",
    "    return np.where(Z > 0, scale, scale * alpha * np.exp(Z))\n",
    "    \n",
    "def tanh_deriv(Z):\n",
    "    return 1 - (tanh(Z) ** 2)\n",
    "\n",
    "def one_hot(Y): #Make everything 0's except the most \"valued\" value!\n",
    "    one_hot_Y = np.zeros((Y.size, Y.max() + 1))\n",
    "    one_hot_Y[np.arange(Y.size), Y] = 1\n",
    "    one_hot_Y = one_hot_Y.T\n",
    "    \n",
    "    return one_hot_Y\n",
    "\n",
    "def forward_prop(X, W1, b1, W2, b2, W3, b3, W4, b4, W5, b5):\n",
    "    Z1 = W1.dot(X) + b1 #(32, 784) * (784, m) + (32,1)\n",
    "    A1 = ReLU(Z1) #(32, m) \n",
    "    \n",
    "    Z2 = W2.dot(A1) + b2 #(32, 32) @ (32, m) + (32, 1)\n",
    "    A2 = sigmoid(Z2) #(32, m)\n",
    "    \n",
    "    Z3 = W3.dot(A2) + b3 #(64, 32) @ (32, m) + (64, 1)\n",
    "    A3 = SeLU(Z3) #(64, m)\n",
    "    \n",
    "    Z4 = W4.dot(A3) + b4 #(64, 64) @ (64, m) + (64, 1)\n",
    "    A4 = tanh(Z4) #(64, m)\n",
    "    \n",
    "    Z5 = W5.dot(A4) + b5 #(10, 64) @ (64, m) + (10, 1)\n",
    "    A5 = softmax(Z5) #(10, m)\n",
    "    \n",
    "    return Z1, A1, Z2, A2, Z3, A3, Z4, A4, Z5, A5\n",
    "\n",
    "def back_prop(X, Y, W1, W2, W3, W4, W5, Z1, Z2, Z3, Z4, Z5, A1, A2, A3, A4, A5):\n",
    "    one_hot_Y = one_hot(Y)\n",
    "    \n",
    "    dZ5 = A5 - one_hot_Y\n",
    "    dW5 = 1 / m * dZ5.dot(A4.T)\n",
    "    db5 = 1 / m * np.sum(dZ5, axis=1, keepdims=True)\n",
    "    \n",
    "    dZ4 = W5.T.dot(dZ5) * tanh_deriv(Z4)\n",
    "    dW4 = 1 / m * dZ4.dot(A3.T)\n",
    "    db4 = 1 / m * np.sum(dZ4, axis=1, keepdims=True)\n",
    "\n",
    "    dZ3 = W4.T.dot(dZ4) * SeLU_deriv(Z3)\n",
    "    dW3 = 1 / m * dZ3.dot(A2.T)\n",
    "    db3 = 1 / m * np.sum(dZ3, axis=1, keepdims=True)\n",
    "\n",
    "    dZ2 = W3.T.dot(dZ3) * sigmoid_deriv(Z2)\n",
    "    dW2 = 1 / m * dZ2.dot(A1.T)\n",
    "    db2 = 1 / m * np.sum(dZ2, axis=1, keepdims=True)\n",
    "    \n",
    "    dZ1 = W2.T.dot(dZ2) * ReLU_deriv(Z1)\n",
    "    dW1 = 1 / m * dZ1.dot(X.T)\n",
    "    db1 = 1 / m * np.sum(dZ1, axis=1, keepdims=True)\n",
    "\n",
    "    return dW1, db1, dW2, db2, dW3, db3, dW4, db4, dW5, db5\n",
    "\n",
    "def update_params(W1, b1, W2, b2, W3, b3, W4, b4, W5, b5, dW1, db1, dW2, db2, dW3, db3, dW4, db4, dW5, db5, alpha):\n",
    "    W1 = W1 - alpha * dW1\n",
    "    b1 = b1 - alpha * db1\n",
    "    \n",
    "    W2 = W2 - alpha * dW2\n",
    "    b2 = b2 - alpha * db2\n",
    "    \n",
    "    W3 = W3 - alpha * dW3\n",
    "    b3 = b3 - alpha * db3\n",
    "    \n",
    "    W4 = W4 - alpha * dW4\n",
    "    b4 = b4 - alpha * db4\n",
    "\n",
    "    W5 = W5 - alpha * dW5\n",
    "    b5 = b5 - alpha * db5\n",
    "\n",
    "    return W1, b1, W2, b2, W3, b3, W4, b4, W5, b5\n"
   ]
  },
  {
   "cell_type": "code",
   "execution_count": 7,
   "id": "4857983f",
   "metadata": {
    "execution": {
     "iopub.execute_input": "2025-05-08T08:50:09.127538Z",
     "iopub.status.busy": "2025-05-08T08:50:09.127194Z",
     "iopub.status.idle": "2025-05-08T08:50:09.142323Z",
     "shell.execute_reply": "2025-05-08T08:50:09.141360Z"
    },
    "papermill": {
     "duration": 0.02238,
     "end_time": "2025-05-08T08:50:09.143784",
     "exception": false,
     "start_time": "2025-05-08T08:50:09.121404",
     "status": "completed"
    },
    "tags": []
   },
   "outputs": [],
   "source": [
    "def update_params_adam(W1, b1, W2, b2, W3, b3, W4, b4, W5, b5, dW1, db1, dW2, db2, dW3, db3, dW4, db4, dW5, db5, v, s, t, learning_rate=0.001, beta1=0.9, beta2=0.999, epsilon=1e-8):\n",
    "    #Momentum\n",
    "    v_dW1 = beta1 * v['dW1'] + (1-beta1) * dW1\n",
    "    v_db1 = beta1 * v['db1'] + (1 - beta1) * db1\n",
    "    v_dW2 = beta1 * v['dW2'] + (1 - beta1) * dW2\n",
    "    v_db2 = beta1 * v['db2'] + (1 - beta1) * db2\n",
    "    v_dW3 = beta1 * v['dW3'] + (1 - beta1) * dW3\n",
    "    v_db3 = beta1 * v['db3'] + (1 - beta1) * db3\n",
    "    v_dW4 = beta1 * v['dW4'] + (1 - beta1) * dW4\n",
    "    v_db4 = beta1 * v['db4'] + (1 - beta1) * db4\n",
    "    v_dW5 = beta1 * v['dW5'] + (1 - beta1) * dW5\n",
    "    v_db5 = beta1 * v['db5'] + (1 - beta1) * db5\n",
    "\n",
    "    #RMSprop\n",
    "    s_dW1 = beta2 * s['dW1'] + (1 - beta2) * (dW1 ** 2)\n",
    "    s_db1 = beta2 * s['db1'] + (1 - beta2) * (db1 ** 2)\n",
    "    s_dW2 = beta2 * s['dW2'] + (1 - beta2) * (dW2 ** 2)\n",
    "    s_db2 = beta2 * s['db2'] + (1 - beta2) * (db2 ** 2)\n",
    "    s_dW3 = beta2 * s['dW3'] + (1 - beta2) * (dW3 ** 2)\n",
    "    s_db3 = beta2 * s['db3'] + (1 - beta2) * (db3 ** 2)\n",
    "    s_dW4 = beta2 * s['dW4'] + (1 - beta2) * (dW4 ** 2)\n",
    "    s_db4 = beta2 * s['db4'] + (1 - beta2) * (db4 ** 2)\n",
    "    s_dW5 = beta2 * s['dW5'] + (1 - beta2) * (dW5 ** 2)\n",
    "    s_db5 = beta2 * s['db5'] + (1 - beta2) * (db5 ** 2)\n",
    "\n",
    "    #Bias Correction\n",
    "    #We do this because the random inital weights and bias might\n",
    "    #not be all over the place so we want to make it more generalized.\n",
    "    #So that's why we make it more generalized to have better accuracy.\n",
    "    v_corrected_dW1 = v_dW1 / (1 - beta1 ** t)\n",
    "    v_corrected_db1 = v_db1 / (1 - beta1 ** t)\n",
    "    v_corrected_dW2 = v_dW2 / (1 - beta1 ** t)\n",
    "    v_corrected_db2 = v_db2 / (1 - beta1 ** t)\n",
    "    v_corrected_dW3 = v_dW3 / (1 - beta1 ** t)\n",
    "    v_corrected_db3 = v_db3 / (1 - beta1 ** t)\n",
    "    v_corrected_dW4 = v_dW4 / (1 - beta1 ** t)\n",
    "    v_corrected_db4 = v_db4 / (1 - beta1 ** t)\n",
    "    v_corrected_dW5 = v_dW5 / (1 - beta1 ** t)\n",
    "    v_corrected_db5 = v_db5 / (1 - beta1 ** t)\n",
    "\n",
    "    s_corrected_dW1 = s_dW1 / (1 - beta2 ** t)\n",
    "    s_corrected_db1 = s_db1 / (1 - beta2 ** t)\n",
    "    s_corrected_dW2 = s_dW2 / (1 - beta2 ** t)\n",
    "    s_corrected_db2 = s_db2 / (1 - beta2 ** t)\n",
    "    s_corrected_dW3 = s_dW3 / (1 - beta2 ** t)\n",
    "    s_corrected_db3 = s_db3 / (1 - beta2 ** t)\n",
    "    s_corrected_dW4 = s_dW4 / (1 - beta2 ** t)\n",
    "    s_corrected_db4 = s_db4 / (1 - beta2 ** t)\n",
    "    s_corrected_dW5 = s_dW5 / (1 - beta2 ** t)\n",
    "    s_corrected_db5 = s_db5 / (1 - beta2 ** t)\n",
    "\n",
    "    #Updates\n",
    "    W1 = W1 - learning_rate * v_corrected_dW1 / (np.sqrt(s_corrected_dW1) + epsilon)\n",
    "    b1 = b1 - learning_rate * v_corrected_db1 / (np.sqrt(s_corrected_db1) + epsilon)\n",
    "    W2 = W2 - learning_rate * v_corrected_dW2 / (np.sqrt(s_corrected_dW2) + epsilon)\n",
    "    b2 = b2 - learning_rate * v_corrected_db2 / (np.sqrt(s_corrected_db2) + epsilon)\n",
    "    W3 = W3 - learning_rate * v_corrected_dW3 / (np.sqrt(s_corrected_dW3) + epsilon)\n",
    "    b3 = b3 - learning_rate * v_corrected_db3 / (np.sqrt(s_corrected_db3) + epsilon)\n",
    "    W4 = W4 - learning_rate * v_corrected_dW4 / (np.sqrt(s_corrected_dW4) + epsilon)\n",
    "    b4 = b4 - learning_rate * v_corrected_db4 / (np.sqrt(s_corrected_db4) + epsilon)\n",
    "    W5 = W5 - learning_rate * v_corrected_dW5 / (np.sqrt(s_corrected_dW5) + epsilon)\n",
    "    b5 = b5 - learning_rate * v_corrected_db5 / (np.sqrt(s_corrected_db5) + epsilon)\n",
    "\n",
    "    #Updated momentum and RMSprop\n",
    "    v_updated = {'dW1': v_dW1, 'db1': v_db1, 'dW2': v_dW2, 'db2': v_db2,\n",
    "                 'dW3': v_dW3, 'db3': v_db3, 'dW4': v_dW4, 'db4': v_db4,\n",
    "                 'dW5': v_dW5, 'db5': v_db5}\n",
    "    s_updated = {'dW1': s_dW1, 'db1': s_db1, 'dW2': s_dW2, 'db2': s_db2,\n",
    "                 'dW3': s_dW3, 'db3': s_db3, 'dW4': s_dW4, 'db4': s_db4,\n",
    "                 'dW5': s_dW5, 'db5': s_db5}\n",
    "\n",
    "    return W1, b1, W2, b2, W3, b3, W4, b4, W5, b5, v_updated, s_updated"
   ]
  },
  {
   "cell_type": "markdown",
   "id": "4629132d",
   "metadata": {
    "papermill": {
     "duration": 0.0043,
     "end_time": "2025-05-08T08:50:09.152808",
     "exception": false,
     "start_time": "2025-05-08T08:50:09.148508",
     "status": "completed"
    },
    "tags": []
   },
   "source": [
    "# **Loss Function**"
   ]
  },
  {
   "cell_type": "code",
   "execution_count": 8,
   "id": "ce57ec0e",
   "metadata": {
    "execution": {
     "iopub.execute_input": "2025-05-08T08:50:09.163032Z",
     "iopub.status.busy": "2025-05-08T08:50:09.162513Z",
     "iopub.status.idle": "2025-05-08T08:50:09.167001Z",
     "shell.execute_reply": "2025-05-08T08:50:09.166317Z"
    },
    "papermill": {
     "duration": 0.010904,
     "end_time": "2025-05-08T08:50:09.168135",
     "exception": false,
     "start_time": "2025-05-08T08:50:09.157231",
     "status": "completed"
    },
    "tags": []
   },
   "outputs": [],
   "source": [
    "def cross_entropy_loss(predictions, label):\n",
    "    #predictions: Output of sotftmax\n",
    "    #labels: One-hot encoded true labels\n",
    "\n",
    "    m = label.shape[1]\n",
    "    loss = -np.sum(label*np.log(predictions + 1e-8)) / m\n",
    "    return loss"
   ]
  },
  {
   "cell_type": "markdown",
   "id": "20f0ea49",
   "metadata": {
    "papermill": {
     "duration": 0.004222,
     "end_time": "2025-05-08T08:50:09.177000",
     "exception": false,
     "start_time": "2025-05-08T08:50:09.172778",
     "status": "completed"
    },
    "tags": []
   },
   "source": [
    "# **Gradient Descent (With Accuracy & Loss)**"
   ]
  },
  {
   "cell_type": "code",
   "execution_count": 9,
   "id": "31d162d3",
   "metadata": {
    "execution": {
     "iopub.execute_input": "2025-05-08T08:50:09.187331Z",
     "iopub.status.busy": "2025-05-08T08:50:09.186623Z",
     "iopub.status.idle": "2025-05-08T08:50:09.196026Z",
     "shell.execute_reply": "2025-05-08T08:50:09.195303Z"
    },
    "papermill": {
     "duration": 0.015985,
     "end_time": "2025-05-08T08:50:09.197353",
     "exception": false,
     "start_time": "2025-05-08T08:50:09.181368",
     "status": "completed"
    },
    "tags": []
   },
   "outputs": [],
   "source": [
    "def get_accuracy(predictions, Y):\n",
    "    print(predictions, Y)\n",
    "    return np.sum(predictions == Y) / Y.size\n",
    "\n",
    "def gradient_descent(X, Y, alpha, iterations):\n",
    "    W1, b1, W2, b2, W3, b3, W4, b4, W5, b5 = init_params()\n",
    "    history = {'loss': [], 'accuracy': []}\n",
    "    for i in range(iterations):\n",
    "        Z1, A1, Z2, A2, Z3, A3, Z4, A4, Z5, A5 = forward_prop(X, W1, b1, W2, b2, W3, b3, W4, b4, W5, b5)\n",
    "        dW1, db1, dW2, db2, dW3, db3, dW4, db4, dW5, db5 = back_prop(X, Y, W1, W2, W3, W4, W5, Z1, Z2, Z3, Z4, Z5, A1, A2, A3, A4, A5)\n",
    "        W1, b1, W2, b2, W3, b3, W4, b4, W5, b5 = update_params(W1, b1, W2, b2, W3, b3, W4, b4, W5, b5, dW1, db1, dW2, db2, dW3, db3, dW4, db4, dW5, db5, alpha)\n",
    "        if i % 10 == 0:\n",
    "            predictions = np.argmax(A5, 0)\n",
    "            accuracy = get_accuracy(predictions, Y)\n",
    "            one_hot_Y = one_hot(Y)\n",
    "            loss = cross_entropy_loss(A5, one_hot_Y)\n",
    "            print(f\"Iteration: {i}, Accuracy: {accuracy:.5f}, Loss: {loss:.5f}\")\n",
    "            history['loss'].append(loss)\n",
    "            history['accuracy'].append(accuracy)\n",
    "\n",
    "    plt.figure(figsize=(10,5))\n",
    "    plt.subplot(1, 2, 1)\n",
    "    plt.plot(range(0, iterations, 10), history['loss'])\n",
    "    plt.xlabel(\"Iteration\")\n",
    "    plt.ylabel(\"Cross-entropy Loss\")\n",
    "    plt.title(\"Training Loss\")\n",
    "\n",
    "    plt.subplot(1,2, 2)\n",
    "    plt.plot(range(0, iterations, 10), history['accuracy'])\n",
    "    plt.xlabel(\"Iterations\")\n",
    "    plt.ylabel(\"Accuracy\")\n",
    "    plt.title(\"Training Accuracy\")\n",
    "\n",
    "    plt.tight_layout()\n",
    "    plt.show()\n",
    "    return W1, b1, W2, b2, W3, b3, W4, b4, W5, b5"
   ]
  },
  {
   "cell_type": "markdown",
   "id": "7a9340c1",
   "metadata": {
    "papermill": {
     "duration": 0.004257,
     "end_time": "2025-05-08T08:50:09.206286",
     "exception": false,
     "start_time": "2025-05-08T08:50:09.202029",
     "status": "completed"
    },
    "tags": []
   },
   "source": [
    "# **Gradient Descent Adam Optimizer (With Accuracy & Loss)**"
   ]
  },
  {
   "cell_type": "code",
   "execution_count": 10,
   "id": "5a260c6d",
   "metadata": {
    "execution": {
     "iopub.execute_input": "2025-05-08T08:50:09.216707Z",
     "iopub.status.busy": "2025-05-08T08:50:09.216427Z",
     "iopub.status.idle": "2025-05-08T08:50:09.227286Z",
     "shell.execute_reply": "2025-05-08T08:50:09.226610Z"
    },
    "papermill": {
     "duration": 0.017783,
     "end_time": "2025-05-08T08:50:09.228511",
     "exception": false,
     "start_time": "2025-05-08T08:50:09.210728",
     "status": "completed"
    },
    "tags": []
   },
   "outputs": [],
   "source": [
    "def gradient_descent_adam(X, Y, learning_rate, iterations):\n",
    "    W1, b1, W2, b2, W3, b3, W4, b4, W5, b5 = init_params()\n",
    "    history = {'loss': [], 'accuracy': []}\n",
    "    #Inital Adam Parameters (Momentum and RMSprop)\n",
    "    #We currently do not have any momentum yet\n",
    "    v = {\n",
    "        'dW1': np.zeros_like(W1), 'db1': np.zeros_like(b1),\n",
    "        'dW2': np.zeros_like(W2), 'db2': np.zeros_like(b2),\n",
    "        'dW3': np.zeros_like(W3), 'db3': np.zeros_like(b3),\n",
    "        'dW4': np.zeros_like(W4), 'db4': np.zeros_like(b4),\n",
    "        'dW5': np.zeros_like(W5), 'db5': np.zeros_like(b5)\n",
    "    }\n",
    "    s = {\n",
    "        'dW1': np.zeros_like(W1), 'db1': np.zeros_like(b1),\n",
    "        'dW2': np.zeros_like(W2), 'db2': np.zeros_like(b2),\n",
    "        'dW3': np.zeros_like(W3), 'db3': np.zeros_like(b3),\n",
    "        'dW4': np.zeros_like(W4), 'db4': np.zeros_like(b4),\n",
    "        'dW5': np.zeros_like(W5), 'db5': np.zeros_like(b5)\n",
    "    }\n",
    "    t = 0 # for bias correction\n",
    "    for i in range(iterations):\n",
    "        Z1, A1, Z2, A2, Z3, A3, Z4, A4, Z5, A5 = forward_prop(X, W1, b1, W2, b2, W3, b3, W4, b4, W5, b5)\n",
    "        dW1, db1, dW2, db2, dW3, db3, dW4, db4, dW5, db5 = back_prop(X, Y, W1, W2, W3, W4, W5, Z1, Z2, Z3, Z4, Z5, A1, A2, A3, A4, A5)\n",
    "        t +=1 #increment per iterations (total 500)\n",
    "        W1, b1, W2, b2, W3, b3, W4, b4, W5, b5, v, s = update_params_adam(W1, b1, W2, b2, W3, b3, W4, b4, W5, b5, dW1, db1, dW2, db2, dW3, db3, dW4, db4, dW5, db5, v, s, t, learning_rate=learning_rate)\n",
    "        if i % 10 == 0:\n",
    "            predictions = np.argmax(A5, 0 )\n",
    "            accuracy = get_accuracy(predictions, Y)\n",
    "            one_hot_Y = one_hot(Y)\n",
    "            loss = cross_entropy_loss(A5, one_hot_Y)\n",
    "            print(f\"Iteration: {i}, Accuracy: {accuracy:.5f}, Loss: {loss:.5f}\")\n",
    "            history['loss'].append(loss)\n",
    "            history['accuracy'].append(accuracy)\n",
    "\n",
    "    plt.figure(figsize=(10,5))\n",
    "    plt.subplot(1, 2, 1)\n",
    "    plt.plot(range(0, iterations, 10), history['loss'])\n",
    "    plt.xlabel(\"Iteration\")\n",
    "    plt.ylabel(\"Cross-entropy Loss\")\n",
    "    plt.title(\"Training Loss\")\n",
    "\n",
    "    plt.subplot(1,2, 2)\n",
    "    plt.plot(range(0, iterations, 10), history['accuracy'])\n",
    "    plt.xlabel(\"Iterations\")\n",
    "    plt.ylabel(\"Accuracy\")\n",
    "    plt.title(\"Training Accuracy\")\n",
    "\n",
    "    plt.tight_layout()\n",
    "    plt.show()\n",
    "    return W1, b1, W2, b2, W3, b3, W4, b4, W5, b5"
   ]
  },
  {
   "cell_type": "markdown",
   "id": "9858d552",
   "metadata": {
    "papermill": {
     "duration": 0.004222,
     "end_time": "2025-05-08T08:50:09.237403",
     "exception": false,
     "start_time": "2025-05-08T08:50:09.233181",
     "status": "completed"
    },
    "tags": []
   },
   "source": [
    "# **Gradient Descent**"
   ]
  },
  {
   "cell_type": "code",
   "execution_count": 11,
   "id": "6b3954f1",
   "metadata": {
    "execution": {
     "iopub.execute_input": "2025-05-08T08:50:09.247767Z",
     "iopub.status.busy": "2025-05-08T08:50:09.247252Z",
     "iopub.status.idle": "2025-05-08T08:52:09.040893Z",
     "shell.execute_reply": "2025-05-08T08:52:09.040028Z"
    },
    "papermill": {
     "duration": 119.800515,
     "end_time": "2025-05-08T08:52:09.042380",
     "exception": false,
     "start_time": "2025-05-08T08:50:09.241865",
     "status": "completed"
    },
    "tags": []
   },
   "outputs": [
    {
     "name": "stdout",
     "output_type": "stream",
     "text": [
      "[7 1 7 ... 1 7 7] [7 1 3 ... 7 0 0]\n",
      "Iteration: 0, Accuracy: 0.16696, Loss: 2.57195\n",
      "[0 1 7 ... 0 0 0] [7 1 3 ... 7 0 0]\n",
      "Iteration: 10, Accuracy: 0.33952, Loss: 2.08694\n",
      "[0 1 0 ... 0 0 0] [7 1 3 ... 7 0 0]\n",
      "Iteration: 20, Accuracy: 0.43976, Loss: 1.91494\n",
      "[0 1 3 ... 0 0 0] [7 1 3 ... 7 0 0]\n",
      "Iteration: 30, Accuracy: 0.50890, Loss: 1.72077\n",
      "[0 1 3 ... 0 0 0] [7 1 3 ... 7 0 0]\n",
      "Iteration: 40, Accuracy: 0.57152, Loss: 1.52216\n",
      "[0 1 3 ... 0 0 0] [7 1 3 ... 7 0 0]\n",
      "Iteration: 50, Accuracy: 0.62533, Loss: 1.34033\n",
      "[0 1 3 ... 0 0 0] [7 1 3 ... 7 0 0]\n",
      "Iteration: 60, Accuracy: 0.66687, Loss: 1.18730\n",
      "[7 1 3 ... 0 0 0] [7 1 3 ... 7 0 0]\n",
      "Iteration: 70, Accuracy: 0.69744, Loss: 1.06596\n",
      "[7 1 3 ... 0 0 0] [7 1 3 ... 7 0 0]\n",
      "Iteration: 80, Accuracy: 0.72089, Loss: 0.97212\n",
      "[7 1 8 ... 0 0 0] [7 1 3 ... 7 0 0]\n",
      "Iteration: 90, Accuracy: 0.73679, Loss: 0.89911\n",
      "[7 1 8 ... 0 0 0] [7 1 3 ... 7 0 0]\n",
      "Iteration: 100, Accuracy: 0.75012, Loss: 0.84092\n",
      "[7 1 8 ... 0 0 0] [7 1 3 ... 7 0 0]\n",
      "Iteration: 110, Accuracy: 0.76229, Loss: 0.79317\n",
      "[7 1 8 ... 0 0 0] [7 1 3 ... 7 0 0]\n",
      "Iteration: 120, Accuracy: 0.77250, Loss: 0.75300\n",
      "[7 1 8 ... 0 0 0] [7 1 3 ... 7 0 0]\n",
      "Iteration: 130, Accuracy: 0.78196, Loss: 0.71848\n",
      "[7 1 8 ... 0 0 0] [7 1 3 ... 7 0 0]\n",
      "Iteration: 140, Accuracy: 0.79060, Loss: 0.68828\n",
      "[7 1 8 ... 0 0 0] [7 1 3 ... 7 0 0]\n",
      "Iteration: 150, Accuracy: 0.79851, Loss: 0.66146\n",
      "[7 1 8 ... 0 0 0] [7 1 3 ... 7 0 0]\n",
      "Iteration: 160, Accuracy: 0.80536, Loss: 0.63739\n",
      "[7 1 8 ... 0 0 0] [7 1 3 ... 7 0 0]\n",
      "Iteration: 170, Accuracy: 0.81259, Loss: 0.61557\n",
      "[7 1 8 ... 0 0 0] [7 1 3 ... 7 0 0]\n",
      "Iteration: 180, Accuracy: 0.81830, Loss: 0.59567\n",
      "[7 1 8 ... 0 0 0] [7 1 3 ... 7 0 0]\n",
      "Iteration: 190, Accuracy: 0.82417, Loss: 0.57744\n",
      "[7 1 8 ... 0 0 0] [7 1 3 ... 7 0 0]\n",
      "Iteration: 200, Accuracy: 0.82967, Loss: 0.56066\n",
      "[7 1 3 ... 0 0 0] [7 1 3 ... 7 0 0]\n",
      "Iteration: 210, Accuracy: 0.83491, Loss: 0.54515\n",
      "[7 1 3 ... 0 0 0] [7 1 3 ... 7 0 0]\n",
      "Iteration: 220, Accuracy: 0.83961, Loss: 0.53080\n",
      "[7 1 3 ... 0 0 0] [7 1 3 ... 7 0 0]\n",
      "Iteration: 230, Accuracy: 0.84420, Loss: 0.51749\n",
      "[7 1 3 ... 0 0 0] [7 1 3 ... 7 0 0]\n",
      "Iteration: 240, Accuracy: 0.84738, Loss: 0.50511\n",
      "[7 1 3 ... 0 0 0] [7 1 3 ... 7 0 0]\n",
      "Iteration: 250, Accuracy: 0.85131, Loss: 0.49360\n",
      "[7 1 3 ... 0 0 0] [7 1 3 ... 7 0 0]\n",
      "Iteration: 260, Accuracy: 0.85437, Loss: 0.48287\n",
      "[7 1 3 ... 0 0 0] [7 1 3 ... 7 0 0]\n",
      "Iteration: 270, Accuracy: 0.85744, Loss: 0.47285\n",
      "[7 1 3 ... 0 0 0] [7 1 3 ... 7 0 0]\n",
      "Iteration: 280, Accuracy: 0.85985, Loss: 0.46347\n",
      "[7 1 3 ... 0 0 0] [7 1 3 ... 7 0 0]\n",
      "Iteration: 290, Accuracy: 0.86256, Loss: 0.45470\n",
      "[7 1 3 ... 0 0 0] [7 1 3 ... 7 0 0]\n",
      "Iteration: 300, Accuracy: 0.86506, Loss: 0.44647\n",
      "[7 1 3 ... 0 0 0] [7 1 3 ... 7 0 0]\n",
      "Iteration: 310, Accuracy: 0.86756, Loss: 0.43871\n",
      "[7 1 3 ... 0 0 0] [7 1 3 ... 7 0 0]\n",
      "Iteration: 320, Accuracy: 0.86964, Loss: 0.43140\n",
      "[7 1 3 ... 0 0 0] [7 1 3 ... 7 0 0]\n",
      "Iteration: 330, Accuracy: 0.87146, Loss: 0.42449\n",
      "[7 1 3 ... 0 0 0] [7 1 3 ... 7 0 0]\n",
      "Iteration: 340, Accuracy: 0.87378, Loss: 0.41797\n",
      "[7 1 3 ... 0 0 0] [7 1 3 ... 7 0 0]\n",
      "Iteration: 350, Accuracy: 0.87589, Loss: 0.41179\n",
      "[7 1 3 ... 0 0 0] [7 1 3 ... 7 0 0]\n",
      "Iteration: 360, Accuracy: 0.87815, Loss: 0.40593\n",
      "[7 1 3 ... 0 0 0] [7 1 3 ... 7 0 0]\n",
      "Iteration: 370, Accuracy: 0.87997, Loss: 0.40036\n",
      "[7 1 3 ... 0 0 0] [7 1 3 ... 7 0 0]\n",
      "Iteration: 380, Accuracy: 0.88128, Loss: 0.39505\n",
      "[7 1 3 ... 0 0 0] [7 1 3 ... 7 0 0]\n",
      "Iteration: 390, Accuracy: 0.88295, Loss: 0.38998\n",
      "[7 1 3 ... 0 0 0] [7 1 3 ... 7 0 0]\n",
      "Iteration: 400, Accuracy: 0.88408, Loss: 0.38512\n",
      "[7 1 3 ... 0 0 0] [7 1 3 ... 7 0 0]\n",
      "Iteration: 410, Accuracy: 0.88539, Loss: 0.38048\n",
      "[7 1 3 ... 0 0 0] [7 1 3 ... 7 0 0]\n",
      "Iteration: 420, Accuracy: 0.88652, Loss: 0.37602\n",
      "[7 1 3 ... 0 0 0] [7 1 3 ... 7 0 0]\n",
      "Iteration: 430, Accuracy: 0.88804, Loss: 0.37174\n",
      "[7 1 3 ... 0 0 0] [7 1 3 ... 7 0 0]\n",
      "Iteration: 440, Accuracy: 0.88926, Loss: 0.36762\n",
      "[7 1 3 ... 0 0 0] [7 1 3 ... 7 0 0]\n",
      "Iteration: 450, Accuracy: 0.89062, Loss: 0.36366\n",
      "[7 1 3 ... 0 0 0] [7 1 3 ... 7 0 0]\n",
      "Iteration: 460, Accuracy: 0.89205, Loss: 0.35985\n",
      "[7 1 3 ... 0 0 0] [7 1 3 ... 7 0 0]\n",
      "Iteration: 470, Accuracy: 0.89289, Loss: 0.35618\n",
      "[7 1 3 ... 0 0 0] [7 1 3 ... 7 0 0]\n",
      "Iteration: 480, Accuracy: 0.89387, Loss: 0.35264\n",
      "[7 1 3 ... 0 0 0] [7 1 3 ... 7 0 0]\n",
      "Iteration: 490, Accuracy: 0.89488, Loss: 0.34921\n"
     ]
    },
    {
     "data": {
      "image/png": "[encoded data removed]",
      "text/plain": [
       "<Figure size 1000x500 with 2 Axes>"
      ]
     },
     "metadata": {},
     "output_type": "display_data"
    }
   ],
   "source": [
    "W1, b1, W2, b2, W3, b3, W4, b4, W5, b5 = gradient_descent(X_train, Y_train, 0.10, 500)"
   ]
  },
  {
   "cell_type": "code",
   "execution_count": 12,
   "id": "2a187128",
   "metadata": {
    "execution": {
     "iopub.execute_input": "2025-05-08T08:52:09.059719Z",
     "iopub.status.busy": "2025-05-08T08:52:09.059014Z",
     "iopub.status.idle": "2025-05-08T08:52:09.065440Z",
     "shell.execute_reply": "2025-05-08T08:52:09.064659Z"
    },
    "papermill": {
     "duration": 0.016369,
     "end_time": "2025-05-08T08:52:09.066693",
     "exception": false,
     "start_time": "2025-05-08T08:52:09.050324",
     "status": "completed"
    },
    "tags": []
   },
   "outputs": [],
   "source": [
    "def make_predict(X, W1, b1, W2, b2, W3, b3, W4, b4, W5, b5):\n",
    "    _, _, _, _, _, _, _, _, _, A5 = forward_prop(X, W1, b1, W2, b2, W3, b3, W4, b4, W5, b5)\n",
    "    predictions = np.argmax(A5, 0 )\n",
    "    return predictions\n",
    "\n",
    "def test_prediction(index, W1, b1, W2, b2, W3, b3, W4, b4, W5, b5):\n",
    "    current_image = X_train[:, index, None]\n",
    "    prediction = make_predict(X_train[:, index, None], W1, b1, W2, b2, W3, b3, W4, b4, W5, b5)\n",
    "    label = Y_train[index]\n",
    "    print(\"Prediction:: \", prediction)\n",
    "    print(\"Label: \", label)\n",
    "\n",
    "    current_img = current_image.reshape((28, 28)) * 255\n",
    "    plt.gray()\n",
    "    plt.imshow(current_image, interpolation='nearest')\n",
    "    plt.show()"
   ]
  },
  {
   "cell_type": "markdown",
   "id": "a5a88553",
   "metadata": {
    "papermill": {
     "duration": 0.007238,
     "end_time": "2025-05-08T08:52:09.081512",
     "exception": false,
     "start_time": "2025-05-08T08:52:09.074274",
     "status": "completed"
    },
    "tags": []
   },
   "source": [
    "# **Gradient Descent (With Adam Optimizer)**"
   ]
  },
  {
   "cell_type": "code",
   "execution_count": 13,
   "id": "3b1a2f5b",
   "metadata": {
    "execution": {
     "iopub.execute_input": "2025-05-08T08:52:09.097810Z",
     "iopub.status.busy": "2025-05-08T08:52:09.097485Z",
     "iopub.status.idle": "2025-05-08T08:54:10.432961Z",
     "shell.execute_reply": "2025-05-08T08:54:10.432104Z"
    },
    "papermill": {
     "duration": 121.34541,
     "end_time": "2025-05-08T08:54:10.434597",
     "exception": false,
     "start_time": "2025-05-08T08:52:09.089187",
     "status": "completed"
    },
    "tags": []
   },
   "outputs": [
    {
     "name": "stdout",
     "output_type": "stream",
     "text": [
      "[2 2 2 ... 2 2 2] [7 1 3 ... 7 0 0]\n",
      "Iteration: 0, Accuracy: 0.07887, Loss: 2.47639\n",
      "[6 1 6 ... 9 0 1] [7 1 3 ... 7 0 0]\n",
      "Iteration: 10, Accuracy: 0.36244, Loss: 2.05132\n",
      "[7 1 8 ... 7 0 0] [7 1 3 ... 7 0 0]\n",
      "Iteration: 20, Accuracy: 0.55128, Loss: 1.69007\n",
      "[7 1 8 ... 7 0 0] [7 1 3 ... 7 0 0]\n",
      "Iteration: 30, Accuracy: 0.64143, Loss: 1.32905\n",
      "[7 1 8 ... 7 0 0] [7 1 3 ... 7 0 0]\n",
      "Iteration: 40, Accuracy: 0.72470, Loss: 1.03113\n",
      "[7 1 3 ... 7 0 0] [7 1 3 ... 7 0 0]\n",
      "Iteration: 50, Accuracy: 0.78327, Loss: 0.80742\n",
      "[7 1 3 ... 7 0 0] [7 1 3 ... 7 0 0]\n",
      "Iteration: 60, Accuracy: 0.82312, Loss: 0.64876\n",
      "[7 1 3 ... 7 0 0] [7 1 3 ... 7 0 0]\n",
      "Iteration: 70, Accuracy: 0.85292, Loss: 0.53785\n",
      "[7 1 3 ... 7 0 0] [7 1 3 ... 7 0 0]\n",
      "Iteration: 80, Accuracy: 0.87244, Loss: 0.46130\n",
      "[7 1 3 ... 7 0 0] [7 1 3 ... 7 0 0]\n",
      "Iteration: 90, Accuracy: 0.88658, Loss: 0.40839\n",
      "[7 1 3 ... 7 0 0] [7 1 3 ... 7 0 0]\n",
      "Iteration: 100, Accuracy: 0.89548, Loss: 0.36986\n",
      "[7 1 3 ... 7 0 0] [7 1 3 ... 7 0 0]\n",
      "Iteration: 110, Accuracy: 0.90351, Loss: 0.33997\n",
      "[7 1 3 ... 7 0 0] [7 1 3 ... 7 0 0]\n",
      "Iteration: 120, Accuracy: 0.90970, Loss: 0.31570\n",
      "[7 1 3 ... 7 0 0] [7 1 3 ... 7 0 0]\n",
      "Iteration: 130, Accuracy: 0.91542, Loss: 0.29525\n",
      "[7 1 3 ... 7 0 0] [7 1 3 ... 7 0 0]\n",
      "Iteration: 140, Accuracy: 0.92042, Loss: 0.27764\n",
      "[7 1 3 ... 7 0 0] [7 1 3 ... 7 0 0]\n",
      "Iteration: 150, Accuracy: 0.92491, Loss: 0.26222\n",
      "[7 1 3 ... 7 0 0] [7 1 3 ... 7 0 0]\n",
      "Iteration: 160, Accuracy: 0.92905, Loss: 0.24856\n",
      "[7 1 3 ... 7 0 0] [7 1 3 ... 7 0 0]\n",
      "Iteration: 170, Accuracy: 0.93244, Loss: 0.23634\n",
      "[7 1 3 ... 7 0 0] [7 1 3 ... 7 0 0]\n",
      "Iteration: 180, Accuracy: 0.93568, Loss: 0.22529\n",
      "[7 1 3 ... 7 0 0] [7 1 3 ... 7 0 0]\n",
      "Iteration: 190, Accuracy: 0.93875, Loss: 0.21520\n",
      "[7 1 3 ... 7 0 0] [7 1 3 ... 7 0 0]\n",
      "Iteration: 200, Accuracy: 0.94104, Loss: 0.20590\n",
      "[7 1 3 ... 7 0 0] [7 1 3 ... 7 0 0]\n",
      "Iteration: 210, Accuracy: 0.94339, Loss: 0.19729\n",
      "[7 1 3 ... 7 0 0] [7 1 3 ... 7 0 0]\n",
      "Iteration: 220, Accuracy: 0.94580, Loss: 0.18927\n",
      "[7 1 3 ... 2 0 0] [7 1 3 ... 7 0 0]\n",
      "Iteration: 230, Accuracy: 0.94768, Loss: 0.18172\n",
      "[7 1 3 ... 2 0 0] [7 1 3 ... 7 0 0]\n",
      "Iteration: 240, Accuracy: 0.94920, Loss: 0.17460\n",
      "[7 1 3 ... 2 0 0] [7 1 3 ... 7 0 0]\n",
      "Iteration: 250, Accuracy: 0.95131, Loss: 0.16784\n",
      "[7 1 3 ... 2 0 0] [7 1 3 ... 7 0 0]\n",
      "Iteration: 260, Accuracy: 0.95318, Loss: 0.16143\n",
      "[7 1 3 ... 2 0 0] [7 1 3 ... 7 0 0]\n",
      "Iteration: 270, Accuracy: 0.95443, Loss: 0.15535\n",
      "[7 1 3 ... 2 0 0] [7 1 3 ... 7 0 0]\n",
      "Iteration: 280, Accuracy: 0.95673, Loss: 0.14960\n",
      "[7 1 3 ... 2 0 0] [7 1 3 ... 7 0 0]\n",
      "Iteration: 290, Accuracy: 0.95836, Loss: 0.14416\n",
      "[7 1 3 ... 2 0 0] [7 1 3 ... 7 0 0]\n",
      "Iteration: 300, Accuracy: 0.95994, Loss: 0.13899\n",
      "[7 1 3 ... 2 0 0] [7 1 3 ... 7 0 0]\n",
      "Iteration: 310, Accuracy: 0.96205, Loss: 0.13405\n",
      "[7 1 3 ... 2 0 0] [7 1 3 ... 7 0 0]\n",
      "Iteration: 320, Accuracy: 0.96330, Loss: 0.12934\n",
      "[7 1 3 ... 2 0 0] [7 1 3 ... 7 0 0]\n",
      "Iteration: 330, Accuracy: 0.96467, Loss: 0.12485\n",
      "[7 1 3 ... 2 0 0] [7 1 3 ... 7 0 0]\n",
      "Iteration: 340, Accuracy: 0.96574, Loss: 0.12052\n",
      "[7 1 3 ... 2 0 0] [7 1 3 ... 7 0 0]\n",
      "Iteration: 350, Accuracy: 0.96682, Loss: 0.11638\n",
      "[7 1 3 ... 2 0 0] [7 1 3 ... 7 0 0]\n",
      "Iteration: 360, Accuracy: 0.96777, Loss: 0.11242\n",
      "[7 1 3 ... 2 0 0] [7 1 3 ... 7 0 0]\n",
      "Iteration: 370, Accuracy: 0.96920, Loss: 0.10863\n",
      "[7 1 3 ... 2 0 0] [7 1 3 ... 7 0 0]\n",
      "Iteration: 380, Accuracy: 0.97033, Loss: 0.10500\n",
      "[7 1 3 ... 0 0 0] [7 1 3 ... 7 0 0]\n",
      "Iteration: 390, Accuracy: 0.97143, Loss: 0.10151\n",
      "[7 1 3 ... 0 0 0] [7 1 3 ... 7 0 0]\n",
      "Iteration: 400, Accuracy: 0.97217, Loss: 0.09815\n",
      "[7 1 3 ... 0 0 0] [7 1 3 ... 7 0 0]\n",
      "Iteration: 410, Accuracy: 0.97301, Loss: 0.09491\n",
      "[7 1 3 ... 0 0 0] [7 1 3 ... 7 0 0]\n",
      "Iteration: 420, Accuracy: 0.97435, Loss: 0.09178\n",
      "[7 1 3 ... 0 0 0] [7 1 3 ... 7 0 0]\n",
      "Iteration: 430, Accuracy: 0.97562, Loss: 0.08876\n",
      "[7 1 3 ... 0 0 0] [7 1 3 ... 7 0 0]\n",
      "Iteration: 440, Accuracy: 0.97652, Loss: 0.08584\n",
      "[7 1 3 ... 0 0 0] [7 1 3 ... 7 0 0]\n",
      "Iteration: 450, Accuracy: 0.97735, Loss: 0.08302\n",
      "[7 1 3 ... 7 0 0] [7 1 3 ... 7 0 0]\n",
      "Iteration: 460, Accuracy: 0.97804, Loss: 0.08029\n",
      "[7 1 3 ... 7 0 0] [7 1 3 ... 7 0 0]\n",
      "Iteration: 470, Accuracy: 0.97896, Loss: 0.07765\n",
      "[7 1 3 ... 7 0 0] [7 1 3 ... 7 0 0]\n",
      "Iteration: 480, Accuracy: 0.97973, Loss: 0.07509\n",
      "[7 1 3 ... 7 0 0] [7 1 3 ... 7 0 0]\n",
      "Iteration: 490, Accuracy: 0.98065, Loss: 0.07260\n"
     ]
    },
    {
     "data": {
      "image/png": "[encoded data removed]",
      "text/plain": [
       "<Figure size 1000x500 with 2 Axes>"
      ]
     },
     "metadata": {},
     "output_type": "display_data"
    }
   ],
   "source": [
    "W1, b1, W2, b2, W3, b3, W4, b4, W5, b5 = gradient_descent_adam(X_train, Y_train, 0.001, 500)"
   ]
  },
  {
   "cell_type": "markdown",
   "id": "630a9d04",
   "metadata": {
    "papermill": {
     "duration": 0.009974,
     "end_time": "2025-05-08T08:54:10.455389",
     "exception": false,
     "start_time": "2025-05-08T08:54:10.445415",
     "status": "completed"
    },
    "tags": []
   },
   "source": [
    "# **Predictions vs Actual (Adam Gradient Descent)**"
   ]
  },
  {
   "cell_type": "code",
   "execution_count": 14,
   "id": "353f0642",
   "metadata": {
    "execution": {
     "iopub.execute_input": "2025-05-08T08:54:10.476963Z",
     "iopub.status.busy": "2025-05-08T08:54:10.476658Z",
     "iopub.status.idle": "2025-05-08T08:54:10.483146Z",
     "shell.execute_reply": "2025-05-08T08:54:10.482499Z"
    },
    "papermill": {
     "duration": 0.018807,
     "end_time": "2025-05-08T08:54:10.484446",
     "exception": false,
     "start_time": "2025-05-08T08:54:10.465639",
     "status": "completed"
    },
    "tags": []
   },
   "outputs": [],
   "source": [
    "def make_predict(X, W1, b1, W2, b2, W3, b3, W4, b4, W5, b5):\n",
    "    _, _, _, _, _, _, _, _, _, A5 = forward_prop(X, W1, b1, W2, b2, W3, b3, W4, b4, W5, b5)\n",
    "    predictions = np.argmax(A5, 0 )\n",
    "    return predictions\n",
    "\n",
    "def test_prediction(index, W1, b1, W2, b2, W3, b3, W4, b4, W5, b5):\n",
    "    current_image = X_train[:, index, None]\n",
    "    prediction = make_predict(X_train[:, index, None], W1, b1, W2, b2, W3, b3, W4, b4, W5, b5)\n",
    "    label = Y_train[index]\n",
    "    \n",
    "    current_img = current_image.reshape((28, 28)) * 255\n",
    "    plt.gray()\n",
    "    plt.imshow(current_img, interpolation='nearest')\n",
    "    plt.title(f\"Prediction: {prediction[0]}, True Label: {label}\", fontsize=10)\n",
    "    plt.show()"
   ]
  },
  {
   "cell_type": "code",
   "execution_count": 15,
   "id": "9c042f0f",
   "metadata": {
    "execution": {
     "iopub.execute_input": "2025-05-08T08:54:10.506564Z",
     "iopub.status.busy": "2025-05-08T08:54:10.505950Z",
     "iopub.status.idle": "2025-05-08T08:54:10.804862Z",
     "shell.execute_reply": "2025-05-08T08:54:10.803962Z"
    },
    "papermill": {
     "duration": 0.311344,
     "end_time": "2025-05-08T08:54:10.806155",
     "exception": false,
     "start_time": "2025-05-08T08:54:10.494811",
     "status": "completed"
    },
    "tags": []
   },
   "outputs": [
    {
     "data": {
      "image/png": "[encoded data removed]",
      "text/plain": [
       "<Figure size 640x480 with 1 Axes>"
      ]
     },
     "metadata": {},
     "output_type": "display_data"
    },
    {
     "data": {
      "image/png": "[encoded data removed]",
      "text/plain": [
       "<Figure size 640x480 with 1 Axes>"
      ]
     },
     "metadata": {},
     "output_type": "display_data"
    }
   ],
   "source": [
    "test_prediction(0, W1, b1, W2, b2, W3, b3, W4, b4, W5, b5)\n",
    "test_prediction(15, W1, b1, W2, b2, W3, b3, W4, b4, W5, b5)"
   ]
  },
  {
   "cell_type": "code",
   "execution_count": 16,
   "id": "0118a62e",
   "metadata": {
    "execution": {
     "iopub.execute_input": "2025-05-08T08:54:10.829494Z",
     "iopub.status.busy": "2025-05-08T08:54:10.829210Z",
     "iopub.status.idle": "2025-05-08T08:54:10.861603Z",
     "shell.execute_reply": "2025-05-08T08:54:10.860743Z"
    },
    "papermill": {
     "duration": 0.045598,
     "end_time": "2025-05-08T08:54:10.862958",
     "exception": false,
     "start_time": "2025-05-08T08:54:10.817360",
     "status": "completed"
    },
    "tags": []
   },
   "outputs": [
    {
     "name": "stdout",
     "output_type": "stream",
     "text": [
      "[2 8 3 ... 0 0 5] [2 8 3 ... 0 0 5]\n"
     ]
    },
    {
     "data": {
      "text/plain": [
       "0.9533333333333334"
      ]
     },
     "execution_count": 16,
     "metadata": {},
     "output_type": "execute_result"
    }
   ],
   "source": [
    "dev_predictions = make_predict(X_test, W1, b1, W2, b2, W3, b3, W4, b4, W5, b5)\n",
    "get_accuracy(dev_predictions, Y_test)"
   ]
  },
  {
   "cell_type": "markdown",
   "id": "93ae0ab5",
   "metadata": {
    "papermill": {
     "duration": 0.010755,
     "end_time": "2025-05-08T08:54:10.884729",
     "exception": false,
     "start_time": "2025-05-08T08:54:10.873974",
     "status": "completed"
    },
    "tags": []
   },
   "source": [
    "The predictions vs the actual values are actually working which is good."
   ]
  },
  {
   "cell_type": "markdown",
   "id": "adeb9e43",
   "metadata": {
    "papermill": {
     "duration": 0.01071,
     "end_time": "2025-05-08T08:54:10.906306",
     "exception": false,
     "start_time": "2025-05-08T08:54:10.895596",
     "status": "completed"
    },
    "tags": []
   },
   "source": [
    "# **Conclusion**\n",
    "\n",
    "In summary, the high training accuracy of 98% coupled with a minimal loss of 0.07 strongly suggests overfitting in our model. While exploring various learning rates (0.01, 0.1, and others), a learning rate of 0.001 yielded the most favorable training outcome. Furthermore, the architecture of the network, specifically the dimensionality of the input, hidden, and output layers, significantly influenced the results. As anticipated, increasing the number of training iterations also contributed to the observed overfitting.\n",
    "\n",
    "When comparing the performance of standard gradient descent to gradient descent utilizing the Adam optimizer, a notable 9% difference in accuracy (89% versus 98%) was observed. Even when considering the impact of overfitting and other architectural choices, this substantial improvement underscores the effectiveness of the Adam optimizer in enhancing the optimization process.\n",
    "\n"
   ]
  }
 ],
 "metadata": {
  "kaggle": {
   "accelerator": "none",
   "dataSources": [
    {
     "databundleVersionId": 861823,
     "sourceId": 3004,
     "sourceType": "competition"
    }
   ],
   "dockerImageVersionId": 31012,
   "isGpuEnabled": false,
   "isInternetEnabled": true,
   "language": "python",
   "sourceType": "notebook"
  },
  "kernelspec": {
   "display_name": "Python 3",
   "language": "python",
   "name": "python3"
  },
  "language_info": {
   "codemirror_mode": {
    "name": "ipython",
    "version": 3
   },
   "file_extension": ".py",
   "mimetype": "text/x-python",
   "name": "python",
   "nbconvert_exporter": "python",
   "pygments_lexer": "ipython3",
   "version": "3.11.11"
  },
  "papermill": {
   "default_parameters": {},
   "duration": 252.490408,
   "end_time": "2025-05-08T08:54:11.437076",
   "environment_variables": {},
   "exception": null,
   "input_path": "__notebook__.ipynb",
   "output_path": "__notebook__.ipynb",
   "parameters": {},
   "start_time": "2025-05-08T08:49:58.946668",
   "version": "2.6.0"
  }
 },
 "nbformat": 4,
 "nbformat_minor": 5
}
